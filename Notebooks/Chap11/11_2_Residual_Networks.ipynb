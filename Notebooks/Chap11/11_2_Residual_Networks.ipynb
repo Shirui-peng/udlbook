{
  "nbformat": 4,
  "nbformat_minor": 0,
  "metadata": {
    "colab": {
      "provenance": [],
      "include_colab_link": true
    },
    "kernelspec": {
      "name": "python3",
      "display_name": "Python 3"
    },
    "language_info": {
      "name": "python"
    }
  },
  "cells": [
    {
      "cell_type": "markdown",
      "metadata": {
        "id": "view-in-github",
        "colab_type": "text"
      },
      "source": [
        "<a href=\"https://colab.research.google.com/github/Shirui-peng/udlbook/blob/main/Notebooks/Chap11/11_2_Residual_Networks.ipynb\" target=\"_parent\"><img src=\"https://colab.research.google.com/assets/colab-badge.svg\" alt=\"Open In Colab\"/></a>"
      ]
    },
    {
      "cell_type": "markdown",
      "source": [
        "# **Notebook 11.2: Residual Networks**\n",
        "\n",
        "This notebook adapts the networks for MNIST1D to use residual connections.\n",
        "\n",
        "Work through the cells below, running each cell in turn. In various places you will see the words \"TODO\". Follow the instructions at these places and make predictions about what is going to happen or write code to complete the functions.\n",
        "\n",
        "Contact me at udlbookmail@gmail.com if you find any mistakes or have any suggestions.\n",
        "\n"
      ],
      "metadata": {
        "id": "t9vk9Elugvmi"
      }
    },
    {
      "cell_type": "code",
      "source": [
        "# Run this if you're in a Colab to install MNIST 1D repository\n",
        "!pip install git+https://github.com/greydanus/mnist1d"
      ],
      "metadata": {
        "id": "D5yLObtZCi9J",
        "outputId": "d8730f06-90fb-486a-a3aa-0e47616e36bb",
        "colab": {
          "base_uri": "https://localhost:8080/"
        }
      },
      "execution_count": 1,
      "outputs": [
        {
          "output_type": "stream",
          "name": "stdout",
          "text": [
            "Collecting git+https://github.com/greydanus/mnist1d\n",
            "  Cloning https://github.com/greydanus/mnist1d to /tmp/pip-req-build-sg3fzx5o\n",
            "  Running command git clone --filter=blob:none --quiet https://github.com/greydanus/mnist1d /tmp/pip-req-build-sg3fzx5o\n",
            "  Resolved https://github.com/greydanus/mnist1d to commit 7878d96082abd200c546a07a4101fa90b30fdf7e\n",
            "  Installing build dependencies ... \u001b[?25l\u001b[?25hdone\n",
            "  Getting requirements to build wheel ... \u001b[?25l\u001b[?25hdone\n",
            "  Preparing metadata (pyproject.toml) ... \u001b[?25l\u001b[?25hdone\n",
            "Requirement already satisfied: requests in /usr/local/lib/python3.12/dist-packages (from mnist1d==0.0.2.post16) (2.32.4)\n",
            "Requirement already satisfied: numpy in /usr/local/lib/python3.12/dist-packages (from mnist1d==0.0.2.post16) (2.0.2)\n",
            "Requirement already satisfied: matplotlib in /usr/local/lib/python3.12/dist-packages (from mnist1d==0.0.2.post16) (3.10.0)\n",
            "Requirement already satisfied: scipy in /usr/local/lib/python3.12/dist-packages (from mnist1d==0.0.2.post16) (1.16.1)\n",
            "Requirement already satisfied: contourpy>=1.0.1 in /usr/local/lib/python3.12/dist-packages (from matplotlib->mnist1d==0.0.2.post16) (1.3.3)\n",
            "Requirement already satisfied: cycler>=0.10 in /usr/local/lib/python3.12/dist-packages (from matplotlib->mnist1d==0.0.2.post16) (0.12.1)\n",
            "Requirement already satisfied: fonttools>=4.22.0 in /usr/local/lib/python3.12/dist-packages (from matplotlib->mnist1d==0.0.2.post16) (4.59.2)\n",
            "Requirement already satisfied: kiwisolver>=1.3.1 in /usr/local/lib/python3.12/dist-packages (from matplotlib->mnist1d==0.0.2.post16) (1.4.9)\n",
            "Requirement already satisfied: packaging>=20.0 in /usr/local/lib/python3.12/dist-packages (from matplotlib->mnist1d==0.0.2.post16) (25.0)\n",
            "Requirement already satisfied: pillow>=8 in /usr/local/lib/python3.12/dist-packages (from matplotlib->mnist1d==0.0.2.post16) (11.3.0)\n",
            "Requirement already satisfied: pyparsing>=2.3.1 in /usr/local/lib/python3.12/dist-packages (from matplotlib->mnist1d==0.0.2.post16) (3.2.3)\n",
            "Requirement already satisfied: python-dateutil>=2.7 in /usr/local/lib/python3.12/dist-packages (from matplotlib->mnist1d==0.0.2.post16) (2.9.0.post0)\n",
            "Requirement already satisfied: charset_normalizer<4,>=2 in /usr/local/lib/python3.12/dist-packages (from requests->mnist1d==0.0.2.post16) (3.4.3)\n",
            "Requirement already satisfied: idna<4,>=2.5 in /usr/local/lib/python3.12/dist-packages (from requests->mnist1d==0.0.2.post16) (3.10)\n",
            "Requirement already satisfied: urllib3<3,>=1.21.1 in /usr/local/lib/python3.12/dist-packages (from requests->mnist1d==0.0.2.post16) (2.5.0)\n",
            "Requirement already satisfied: certifi>=2017.4.17 in /usr/local/lib/python3.12/dist-packages (from requests->mnist1d==0.0.2.post16) (2025.8.3)\n",
            "Requirement already satisfied: six>=1.5 in /usr/local/lib/python3.12/dist-packages (from python-dateutil>=2.7->matplotlib->mnist1d==0.0.2.post16) (1.17.0)\n",
            "Building wheels for collected packages: mnist1d\n",
            "  Building wheel for mnist1d (pyproject.toml) ... \u001b[?25l\u001b[?25hdone\n",
            "  Created wheel for mnist1d: filename=mnist1d-0.0.2.post16-py3-none-any.whl size=14665 sha256=688065f84ad400beb9dc4b09bc95799a8bf031aa9e71a90467102ead04b53723\n",
            "  Stored in directory: /tmp/pip-ephem-wheel-cache-bfo0eca0/wheels/18/40/b6/29381fee9b4c80fdbc304d52bb065a7286bbcca5ca2b8737c0\n",
            "Successfully built mnist1d\n",
            "Installing collected packages: mnist1d\n",
            "Successfully installed mnist1d-0.0.2.post16\n"
          ]
        }
      ]
    },
    {
      "cell_type": "code",
      "source": [
        "import numpy as np\n",
        "import os\n",
        "import torch, torch.nn as nn\n",
        "from torch.utils.data import TensorDataset, DataLoader\n",
        "from torch.optim.lr_scheduler import StepLR\n",
        "import matplotlib.pyplot as plt\n",
        "import mnist1d\n",
        "import random"
      ],
      "metadata": {
        "id": "YrXWAH7sUWvU"
      },
      "execution_count": 2,
      "outputs": []
    },
    {
      "cell_type": "code",
      "source": [
        "args = mnist1d.data.get_dataset_args()\n",
        "data = mnist1d.data.get_dataset(args, path='./mnist1d_data.pkl', download=False, regenerate=False)\n",
        "\n",
        "# The training and test input and outputs are in\n",
        "# data['x'], data['y'], data['x_test'], and data['y_test']\n",
        "print(\"Examples in training set: {}\".format(len(data['y'])))\n",
        "print(\"Examples in test set: {}\".format(len(data['y_test'])))\n",
        "print(\"Length of each example: {}\".format(data['x'].shape[-1]))"
      ],
      "metadata": {
        "id": "twI72ZCrCt5z",
        "outputId": "00b89628-7427-4e59-9e33-3b6a7e30cba6",
        "colab": {
          "base_uri": "https://localhost:8080/"
        }
      },
      "execution_count": 3,
      "outputs": [
        {
          "output_type": "stream",
          "name": "stdout",
          "text": [
            "Did or could not load data from ./mnist1d_data.pkl. Rebuilding dataset...\n",
            "Examples in training set: 4000\n",
            "Examples in test set: 1000\n",
            "Length of each example: 40\n"
          ]
        }
      ]
    },
    {
      "cell_type": "code",
      "source": [
        "# Load in the data\n",
        "train_data_x = data['x'].transpose()\n",
        "train_data_y = data['y']\n",
        "val_data_x = data['x_test'].transpose()\n",
        "val_data_y = data['y_test']\n",
        "# Print out sizes\n",
        "print(\"Train data: %d examples (columns), each of which has %d dimensions (rows)\"%((train_data_x.shape[1],train_data_x.shape[0])))\n",
        "print(\"Validation data: %d examples (columns), each of which has %d dimensions (rows)\"%((val_data_x.shape[1],val_data_x.shape[0])))"
      ],
      "metadata": {
        "id": "8bKADvLHbiV5",
        "outputId": "389be838-d830-49f1-89e8-d2e52910afce",
        "colab": {
          "base_uri": "https://localhost:8080/"
        }
      },
      "execution_count": 4,
      "outputs": [
        {
          "output_type": "stream",
          "name": "stdout",
          "text": [
            "Train data: 4000 examples (columns), each of which has 40 dimensions (rows)\n",
            "Validation data: 1000 examples (columns), each of which has 40 dimensions (rows)\n"
          ]
        }
      ]
    },
    {
      "cell_type": "markdown",
      "source": [
        "Define the network"
      ],
      "metadata": {
        "id": "_sFvRDGrl4qe"
      }
    },
    {
      "cell_type": "code",
      "source": [
        "# There are 40 input dimensions and 10 output dimensions for this data\n",
        "# The inputs correspond to the 40 offsets in the MNIST1D template.\n",
        "D_i = 40\n",
        "# The outputs correspond to the 10 digits\n",
        "D_o = 10\n",
        "\n",
        "\n",
        "# We will adapt this model to have residual connections around the linear layers\n",
        "# This is the same model we used in practical 8.1, but we can't use the sequential\n",
        "# class for residual networks (which aren't strictly sequential).  Hence, I've rewritten\n",
        "# it as a model that inherits from a base class\n",
        "\n",
        "class ResidualNetwork(torch.nn.Module):\n",
        "  def __init__(self, input_size, output_size, hidden_size=100):\n",
        "    super(ResidualNetwork, self).__init__()\n",
        "    self.linear1 = nn.Linear(input_size, hidden_size)\n",
        "    self.linear2 = nn.Linear(hidden_size, hidden_size)\n",
        "    self.linear3 = nn.Linear(hidden_size, hidden_size)\n",
        "    self.linear4 = nn.Linear(hidden_size, output_size)\n",
        "    print(\"Initialized MLPBase model with {} parameters\".format(self.count_params()))\n",
        "\n",
        "  def count_params(self):\n",
        "    return sum([p.view(-1).shape[0] for p in self.parameters()])\n",
        "\n",
        "# TODO -- Add residual connections to this model\n",
        "# The order of operations within each block should similar to figure 11.5b\n",
        "# ie., linear1 first, ReLU+linear2 in first residual block, ReLU+linear3 in second residual block), linear4 at end\n",
        "# Replace this function\n",
        "  def forward(self, x):\n",
        "    h1 = self.linear1(x)\n",
        "    h2 = self.linear2(h1.relu()) #+ h1\n",
        "    h3 = self.linear3(h2.relu()) #+ h2\n",
        "    return self.linear4(h3)\n"
      ],
      "metadata": {
        "id": "FslroPJJffrh"
      },
      "execution_count": 9,
      "outputs": []
    },
    {
      "cell_type": "code",
      "source": [
        "# He initialization of weights\n",
        "def weights_init(layer_in):\n",
        "  if isinstance(layer_in, nn.Linear):\n",
        "    nn.init.kaiming_uniform_(layer_in.weight)\n",
        "    layer_in.bias.data.fill_(0.0)"
      ],
      "metadata": {
        "id": "YgLaex1pfhqz"
      },
      "execution_count": 6,
      "outputs": []
    },
    {
      "cell_type": "code",
      "source": [
        "#Define the model\n",
        "model = ResidualNetwork(40, 10)\n",
        "\n",
        "# choose cross entropy loss function (equation 5.24 in the loss notes)\n",
        "loss_function = nn.CrossEntropyLoss()\n",
        "# construct SGD optimizer and initialize learning rate and momentum\n",
        "optimizer = torch.optim.SGD(model.parameters(), lr = 0.05, momentum=0.9)\n",
        "# object that decreases learning rate by half every 20 epochs\n",
        "scheduler = StepLR(optimizer, step_size=20, gamma=0.5)\n",
        "# convert data to torch tensors\n",
        "x_train = torch.tensor(train_data_x.transpose().astype('float32'))\n",
        "y_train = torch.tensor(train_data_y.astype('long'))\n",
        "x_val= torch.tensor(val_data_x.transpose().astype('float32'))\n",
        "y_val = torch.tensor(val_data_y.astype('long'))\n",
        "\n",
        "# load the data into a class that creates the batches\n",
        "data_loader = DataLoader(TensorDataset(x_train,y_train), batch_size=100, shuffle=True, worker_init_fn=np.random.seed(1))\n",
        "\n",
        "# Initialize model weights\n",
        "model.apply(weights_init)\n",
        "\n",
        "# loop over the dataset n_epoch times\n",
        "n_epoch = 100\n",
        "# store the loss and the % correct at each epoch\n",
        "losses_train = np.zeros((n_epoch))\n",
        "errors_train = np.zeros((n_epoch))\n",
        "losses_val = np.zeros((n_epoch))\n",
        "errors_val = np.zeros((n_epoch))\n",
        "\n",
        "for epoch in range(n_epoch):\n",
        "  # loop over batches\n",
        "  for i, data in enumerate(data_loader):\n",
        "    # retrieve inputs and labels for this batch\n",
        "    x_batch, y_batch = data\n",
        "    # zero the parameter gradients\n",
        "    optimizer.zero_grad()\n",
        "    # forward pass -- calculate model output\n",
        "    pred = model(x_batch)\n",
        "    # compute the loss\n",
        "    loss = loss_function(pred, y_batch)\n",
        "    # backward pass\n",
        "    loss.backward()\n",
        "    # SGD update\n",
        "    optimizer.step()\n",
        "\n",
        "  # Run whole dataset to get statistics -- normally wouldn't do this\n",
        "  pred_train = model(x_train)\n",
        "  pred_val = model(x_val)\n",
        "  _, predicted_train_class = torch.max(pred_train.data, 1)\n",
        "  _, predicted_val_class = torch.max(pred_val.data, 1)\n",
        "  errors_train[epoch] = 100 - 100 * (predicted_train_class == y_train).float().sum() / len(y_train)\n",
        "  errors_val[epoch]= 100 - 100 * (predicted_val_class == y_val).float().sum() / len(y_val)\n",
        "  losses_train[epoch] = loss_function(pred_train, y_train).item()\n",
        "  losses_val[epoch]= loss_function(pred_val, y_val).item()\n",
        "  print(f'Epoch {epoch:5d}, train loss {losses_train[epoch]:.6f}, train error {errors_train[epoch]:3.2f},  val loss {losses_val[epoch]:.6f}, percent error {errors_val[epoch]:3.2f}')\n",
        "\n",
        "  # tell scheduler to consider updating learning rate\n",
        "  scheduler.step()"
      ],
      "metadata": {
        "id": "NYw8I_3mmX5c",
        "outputId": "a0fac28c-0ffb-4fe6-afcd-8fa7fc86db1e",
        "colab": {
          "base_uri": "https://localhost:8080/"
        }
      },
      "execution_count": 10,
      "outputs": [
        {
          "output_type": "stream",
          "name": "stdout",
          "text": [
            "Initialized MLPBase model with 25310 parameters\n",
            "Epoch     0, train loss 1.566423, train error 62.38,  val loss 1.656273, percent error 66.00\n",
            "Epoch     1, train loss 1.249985, train error 46.38,  val loss 1.435536, percent error 56.60\n",
            "Epoch     2, train loss 1.022810, train error 37.47,  val loss 1.271566, percent error 49.80\n",
            "Epoch     3, train loss 0.879010, train error 32.70,  val loss 1.200556, percent error 47.60\n",
            "Epoch     4, train loss 0.805836, train error 30.00,  val loss 1.171351, percent error 45.60\n",
            "Epoch     5, train loss 0.743627, train error 28.65,  val loss 1.208532, percent error 45.50\n",
            "Epoch     6, train loss 0.602062, train error 21.70,  val loss 1.168438, percent error 42.00\n",
            "Epoch     7, train loss 0.521216, train error 19.10,  val loss 1.130562, percent error 39.40\n",
            "Epoch     8, train loss 0.467574, train error 16.93,  val loss 1.137183, percent error 38.40\n",
            "Epoch     9, train loss 0.403426, train error 14.78,  val loss 1.169752, percent error 37.40\n",
            "Epoch    10, train loss 0.377229, train error 13.38,  val loss 1.212556, percent error 37.90\n",
            "Epoch    11, train loss 0.398473, train error 14.93,  val loss 1.296649, percent error 38.80\n",
            "Epoch    12, train loss 0.366388, train error 14.05,  val loss 1.291800, percent error 38.20\n",
            "Epoch    13, train loss 0.294492, train error 10.30,  val loss 1.265937, percent error 36.10\n",
            "Epoch    14, train loss 0.258207, train error 9.45,  val loss 1.273249, percent error 35.80\n",
            "Epoch    15, train loss 0.270321, train error 10.05,  val loss 1.336276, percent error 37.20\n",
            "Epoch    16, train loss 0.205347, train error 7.03,  val loss 1.397259, percent error 36.30\n",
            "Epoch    17, train loss 0.275805, train error 9.55,  val loss 1.600333, percent error 39.60\n",
            "Epoch    18, train loss 0.266051, train error 9.18,  val loss 1.550168, percent error 38.80\n",
            "Epoch    19, train loss 0.173815, train error 5.95,  val loss 1.599734, percent error 37.20\n",
            "Epoch    20, train loss 0.058793, train error 0.93,  val loss 1.366775, percent error 32.70\n",
            "Epoch    21, train loss 0.034061, train error 0.30,  val loss 1.437580, percent error 33.40\n",
            "Epoch    22, train loss 0.021670, train error 0.03,  val loss 1.472000, percent error 32.60\n",
            "Epoch    23, train loss 0.015951, train error 0.00,  val loss 1.509125, percent error 33.00\n",
            "Epoch    24, train loss 0.013038, train error 0.03,  val loss 1.553871, percent error 32.90\n",
            "Epoch    25, train loss 0.010725, train error 0.00,  val loss 1.598116, percent error 32.90\n",
            "Epoch    26, train loss 0.009148, train error 0.00,  val loss 1.631876, percent error 32.70\n",
            "Epoch    27, train loss 0.008031, train error 0.00,  val loss 1.656957, percent error 32.80\n",
            "Epoch    28, train loss 0.007213, train error 0.00,  val loss 1.691571, percent error 33.30\n",
            "Epoch    29, train loss 0.006531, train error 0.00,  val loss 1.714439, percent error 33.20\n",
            "Epoch    30, train loss 0.005954, train error 0.00,  val loss 1.734664, percent error 33.00\n",
            "Epoch    31, train loss 0.005420, train error 0.00,  val loss 1.757138, percent error 33.30\n",
            "Epoch    32, train loss 0.005019, train error 0.00,  val loss 1.774699, percent error 33.20\n",
            "Epoch    33, train loss 0.004647, train error 0.00,  val loss 1.794355, percent error 33.30\n",
            "Epoch    34, train loss 0.004379, train error 0.00,  val loss 1.812161, percent error 33.50\n",
            "Epoch    35, train loss 0.004076, train error 0.00,  val loss 1.829334, percent error 33.40\n",
            "Epoch    36, train loss 0.003839, train error 0.00,  val loss 1.846681, percent error 33.40\n",
            "Epoch    37, train loss 0.003628, train error 0.00,  val loss 1.861148, percent error 33.30\n",
            "Epoch    38, train loss 0.003436, train error 0.00,  val loss 1.872097, percent error 33.50\n",
            "Epoch    39, train loss 0.003258, train error 0.00,  val loss 1.886225, percent error 33.20\n",
            "Epoch    40, train loss 0.003174, train error 0.00,  val loss 1.893073, percent error 33.40\n",
            "Epoch    41, train loss 0.003096, train error 0.00,  val loss 1.899828, percent error 33.50\n",
            "Epoch    42, train loss 0.003027, train error 0.00,  val loss 1.906480, percent error 33.50\n",
            "Epoch    43, train loss 0.002956, train error 0.00,  val loss 1.913165, percent error 33.40\n",
            "Epoch    44, train loss 0.002892, train error 0.00,  val loss 1.917296, percent error 33.40\n",
            "Epoch    45, train loss 0.002827, train error 0.00,  val loss 1.924202, percent error 33.30\n",
            "Epoch    46, train loss 0.002767, train error 0.00,  val loss 1.929445, percent error 33.40\n",
            "Epoch    47, train loss 0.002710, train error 0.00,  val loss 1.933678, percent error 33.50\n",
            "Epoch    48, train loss 0.002654, train error 0.00,  val loss 1.941067, percent error 33.40\n",
            "Epoch    49, train loss 0.002600, train error 0.00,  val loss 1.945897, percent error 33.40\n",
            "Epoch    50, train loss 0.002549, train error 0.00,  val loss 1.950458, percent error 33.40\n",
            "Epoch    51, train loss 0.002499, train error 0.00,  val loss 1.957228, percent error 33.40\n",
            "Epoch    52, train loss 0.002451, train error 0.00,  val loss 1.961661, percent error 33.50\n",
            "Epoch    53, train loss 0.002406, train error 0.00,  val loss 1.965959, percent error 33.50\n",
            "Epoch    54, train loss 0.002360, train error 0.00,  val loss 1.970596, percent error 33.40\n",
            "Epoch    55, train loss 0.002318, train error 0.00,  val loss 1.975137, percent error 33.50\n",
            "Epoch    56, train loss 0.002275, train error 0.00,  val loss 1.981416, percent error 33.50\n",
            "Epoch    57, train loss 0.002236, train error 0.00,  val loss 1.984980, percent error 33.60\n",
            "Epoch    58, train loss 0.002197, train error 0.00,  val loss 1.990456, percent error 33.60\n",
            "Epoch    59, train loss 0.002159, train error 0.00,  val loss 1.994354, percent error 33.60\n",
            "Epoch    60, train loss 0.002140, train error 0.00,  val loss 1.997355, percent error 33.50\n",
            "Epoch    61, train loss 0.002122, train error 0.00,  val loss 1.998910, percent error 33.60\n",
            "Epoch    62, train loss 0.002104, train error 0.00,  val loss 2.001388, percent error 33.60\n",
            "Epoch    63, train loss 0.002087, train error 0.00,  val loss 2.004053, percent error 33.50\n",
            "Epoch    64, train loss 0.002070, train error 0.00,  val loss 2.005815, percent error 33.50\n",
            "Epoch    65, train loss 0.002054, train error 0.00,  val loss 2.007988, percent error 33.70\n",
            "Epoch    66, train loss 0.002036, train error 0.00,  val loss 2.009682, percent error 33.60\n",
            "Epoch    67, train loss 0.002020, train error 0.00,  val loss 2.012001, percent error 33.50\n",
            "Epoch    68, train loss 0.002004, train error 0.00,  val loss 2.014086, percent error 33.70\n",
            "Epoch    69, train loss 0.001988, train error 0.00,  val loss 2.016208, percent error 33.70\n",
            "Epoch    70, train loss 0.001973, train error 0.00,  val loss 2.018511, percent error 33.60\n",
            "Epoch    71, train loss 0.001957, train error 0.00,  val loss 2.020662, percent error 33.70\n",
            "Epoch    72, train loss 0.001942, train error 0.00,  val loss 2.022866, percent error 33.60\n",
            "Epoch    73, train loss 0.001927, train error 0.00,  val loss 2.024853, percent error 33.70\n",
            "Epoch    74, train loss 0.001912, train error 0.00,  val loss 2.026557, percent error 33.60\n",
            "Epoch    75, train loss 0.001898, train error 0.00,  val loss 2.028900, percent error 33.60\n",
            "Epoch    76, train loss 0.001884, train error 0.00,  val loss 2.030230, percent error 33.60\n",
            "Epoch    77, train loss 0.001869, train error 0.00,  val loss 2.033072, percent error 33.60\n",
            "Epoch    78, train loss 0.001855, train error 0.00,  val loss 2.034881, percent error 33.60\n",
            "Epoch    79, train loss 0.001841, train error 0.00,  val loss 2.036529, percent error 33.60\n",
            "Epoch    80, train loss 0.001834, train error 0.00,  val loss 2.037538, percent error 33.60\n",
            "Epoch    81, train loss 0.001828, train error 0.00,  val loss 2.038658, percent error 33.60\n",
            "Epoch    82, train loss 0.001821, train error 0.00,  val loss 2.039398, percent error 33.60\n",
            "Epoch    83, train loss 0.001814, train error 0.00,  val loss 2.040340, percent error 33.60\n",
            "Epoch    84, train loss 0.001808, train error 0.00,  val loss 2.041581, percent error 33.60\n",
            "Epoch    85, train loss 0.001801, train error 0.00,  val loss 2.042288, percent error 33.60\n",
            "Epoch    86, train loss 0.001795, train error 0.00,  val loss 2.043473, percent error 33.60\n",
            "Epoch    87, train loss 0.001788, train error 0.00,  val loss 2.044391, percent error 33.60\n",
            "Epoch    88, train loss 0.001782, train error 0.00,  val loss 2.045194, percent error 33.60\n",
            "Epoch    89, train loss 0.001776, train error 0.00,  val loss 2.046274, percent error 33.60\n",
            "Epoch    90, train loss 0.001769, train error 0.00,  val loss 2.047367, percent error 33.60\n",
            "Epoch    91, train loss 0.001763, train error 0.00,  val loss 2.048276, percent error 33.60\n",
            "Epoch    92, train loss 0.001757, train error 0.00,  val loss 2.048983, percent error 33.60\n",
            "Epoch    93, train loss 0.001750, train error 0.00,  val loss 2.050197, percent error 33.60\n",
            "Epoch    94, train loss 0.001744, train error 0.00,  val loss 2.051049, percent error 33.60\n",
            "Epoch    95, train loss 0.001738, train error 0.00,  val loss 2.052128, percent error 33.60\n",
            "Epoch    96, train loss 0.001732, train error 0.00,  val loss 2.052889, percent error 33.60\n",
            "Epoch    97, train loss 0.001726, train error 0.00,  val loss 2.053977, percent error 33.60\n",
            "Epoch    98, train loss 0.001720, train error 0.00,  val loss 2.054837, percent error 33.60\n",
            "Epoch    99, train loss 0.001714, train error 0.00,  val loss 2.055543, percent error 33.60\n"
          ]
        }
      ]
    },
    {
      "cell_type": "code",
      "source": [
        "# Plot the results\n",
        "fig, ax = plt.subplots()\n",
        "ax.plot(errors_train,'r-',label='train')\n",
        "ax.plot(errors_val,'b-',label='test')\n",
        "ax.set_ylim(0,100); ax.set_xlim(0,n_epoch)\n",
        "ax.set_xlabel('Epoch'); ax.set_ylabel('Error')\n",
        "ax.set_title('TrainError %3.2f, Val Error %3.2f'%(errors_train[-1],errors_val[-1]))\n",
        "ax.legend()\n",
        "plt.show()"
      ],
      "metadata": {
        "id": "CcP_VyEmE2sv",
        "outputId": "3ab3536d-6eff-4a9e-a4da-e15203272e2c",
        "colab": {
          "base_uri": "https://localhost:8080/",
          "height": 472
        }
      },
      "execution_count": 11,
      "outputs": [
        {
          "output_type": "display_data",
          "data": {
            "text/plain": [
              "<Figure size 640x480 with 1 Axes>"
            ],
            "image/png": "[encoded data removed]"
          },
          "metadata": {}
        }
      ]
    },
    {
      "cell_type": "markdown",
      "source": [
        "The primary motivation of residual networks is to allow training of much deeper networks.   \n",
        "\n",
        "TODO: Try running this network with and without the residual connections.  Does adding the residual connections change the performance?"
      ],
      "metadata": {
        "id": "wMmqhmxuAx0M"
      }
    }
  ]
}