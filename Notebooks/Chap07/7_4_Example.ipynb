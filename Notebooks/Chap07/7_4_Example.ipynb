{
  "nbformat": 4,
  "nbformat_minor": 0,
  "metadata": {
    "colab": {
      "provenance": [],
      "authorship_tag": "ABX9TyPQwzQ5/Mh8sltbqzTTlw8n",
      "include_colab_link": true
    },
    "kernelspec": {
      "name": "python3",
      "display_name": "Python 3"
    },
    "language_info": {
      "name": "python"
    }
  },
  "cells": [
    {
      "cell_type": "markdown",
      "metadata": {
        "id": "view-in-github",
        "colab_type": "text"
      },
      "source": [
        "<a href=\"https://colab.research.google.com/github/Shirui-peng/udlbook/blob/main/Notebooks/Chap07/7_4_Example.ipynb\" target=\"_parent\"><img src=\"https://colab.research.google.com/assets/colab-badge.svg\" alt=\"Open In Colab\"/></a>"
      ]
    },
    {
      "cell_type": "code",
      "execution_count": 1,
      "metadata": {
        "id": "hu1_KZJbGNwV"
      },
      "outputs": [],
      "source": [
        "import torch, torch.nn as nn\n",
        "from torch.utils.data import TensorDataset, DataLoader\n",
        "from torch.optim.lr_scheduler import StepLR"
      ]
    },
    {
      "cell_type": "code",
      "source": [
        "# define input size, hidden layer size, output size\n",
        "D_i, D_k, D_o = 10, 40, 5\n",
        "# create model with two hidden layers\n",
        "model = nn.Sequential(\n",
        "  nn.Linear(D_i, D_k),\n",
        "  nn.ReLU(),\n",
        "  nn.Linear(D_k, D_k),\n",
        "  nn.ReLU(),\n",
        "  nn.Linear(D_k, D_o))"
      ],
      "metadata": {
        "id": "X-Llly-bGZ16"
      },
      "execution_count": 2,
      "outputs": []
    },
    {
      "cell_type": "code",
      "source": [
        "# He initialization of weights\n",
        "def weights_init(layer_in):\n",
        "  if isinstance(layer_in, nn.Linear):\n",
        "    nn.init.kaiming_normal_(layer_in.weight)\n",
        "    layer_in.bias.data.fill_(0.0)\n",
        "model.apply(weights_init)"
      ],
      "metadata": {
        "colab": {
          "base_uri": "https://localhost:8080/"
        },
        "id": "pupP7u5xGmMT",
        "outputId": "79c5e1ec-b207-4e6e-a3ac-25eda8eaa1f5"
      },
      "execution_count": 3,
      "outputs": [
        {
          "output_type": "execute_result",
          "data": {
            "text/plain": [
              "Sequential(\n",
              "  (0): Linear(in_features=10, out_features=40, bias=True)\n",
              "  (1): ReLU()\n",
              "  (2): Linear(in_features=40, out_features=40, bias=True)\n",
              "  (3): ReLU()\n",
              "  (4): Linear(in_features=40, out_features=5, bias=True)\n",
              ")"
            ]
          },
          "metadata": {},
          "execution_count": 3
        }
      ]
    },
    {
      "cell_type": "code",
      "source": [
        "# choose least squares loss function\n",
        "criterion = nn.MSELoss()\n",
        "# construct SGD optimizer and initialize learning rate and momentum\n",
        "optimizer = torch.optim.SGD(model.parameters(), lr = 0.1, momentum=0.9)\n",
        "# object that decreases learning rate by half every 10 epochs\n",
        "scheduler = StepLR(optimizer, step_size=10, gamma=0.5)"
      ],
      "metadata": {
        "id": "VCygnUDtG73F"
      },
      "execution_count": 4,
      "outputs": []
    },
    {
      "cell_type": "code",
      "source": [
        "# create 100 random data points and store in data loader class\n",
        "x = torch.randn(100, D_i)\n",
        "y = torch.randn(100, D_o)\n",
        "data_loader = DataLoader(TensorDataset(x,y), batch_size=10, shuffle=True)"
      ],
      "metadata": {
        "id": "j6HBCjQSHJt0"
      },
      "execution_count": 5,
      "outputs": []
    },
    {
      "cell_type": "code",
      "source": [
        "all_losses = []\n",
        "# loop over the dataset 100 times\n",
        "for epoch in range(100):\n",
        "  epoch_loss = 0.0\n",
        "  # loop over batches\n",
        "  for i, data in enumerate(data_loader):\n",
        "    # retrieve inputs and labels for this batch\n",
        "    x_batch, y_batch = data\n",
        "    # zero the parameter gradients\n",
        "    optimizer.zero_grad()\n",
        "    # forward pass\n",
        "    pred = model(x_batch)\n",
        "    loss = criterion(pred, y_batch)\n",
        "    # backward pass\n",
        "    loss.backward()\n",
        "    # SGD update\n",
        "    optimizer.step()\n",
        "    # update statistics\n",
        "    epoch_loss += loss.item()\n",
        "  # print error\n",
        "  print(f'Epoch {epoch:5d}, loss {epoch_loss:.3f}')\n",
        "  # tell scheduler to consider updating learning rate\n",
        "  scheduler.step()\n",
        "  all_losses.append(epoch_loss)"
      ],
      "metadata": {
        "colab": {
          "base_uri": "https://localhost:8080/"
        },
        "id": "DGj1YhUHHPFF",
        "outputId": "748a0e5f-8d5a-4c4c-c8fc-c18b0f9d57f9"
      },
      "execution_count": 7,
      "outputs": [
        {
          "output_type": "stream",
          "name": "stdout",
          "text": [
            "Epoch     0, loss 4.803\n",
            "Epoch     1, loss 4.803\n",
            "Epoch     2, loss 4.803\n",
            "Epoch     3, loss 4.803\n",
            "Epoch     4, loss 4.803\n",
            "Epoch     5, loss 4.802\n",
            "Epoch     6, loss 4.802\n",
            "Epoch     7, loss 4.802\n",
            "Epoch     8, loss 4.802\n",
            "Epoch     9, loss 4.802\n",
            "Epoch    10, loss 4.802\n",
            "Epoch    11, loss 4.802\n",
            "Epoch    12, loss 4.802\n",
            "Epoch    13, loss 4.802\n",
            "Epoch    14, loss 4.802\n",
            "Epoch    15, loss 4.802\n",
            "Epoch    16, loss 4.802\n",
            "Epoch    17, loss 4.802\n",
            "Epoch    18, loss 4.802\n",
            "Epoch    19, loss 4.802\n",
            "Epoch    20, loss 4.801\n",
            "Epoch    21, loss 4.801\n",
            "Epoch    22, loss 4.801\n",
            "Epoch    23, loss 4.801\n",
            "Epoch    24, loss 4.801\n",
            "Epoch    25, loss 4.801\n",
            "Epoch    26, loss 4.801\n",
            "Epoch    27, loss 4.801\n",
            "Epoch    28, loss 4.801\n",
            "Epoch    29, loss 4.801\n",
            "Epoch    30, loss 4.801\n",
            "Epoch    31, loss 4.801\n",
            "Epoch    32, loss 4.801\n",
            "Epoch    33, loss 4.801\n",
            "Epoch    34, loss 4.801\n",
            "Epoch    35, loss 4.801\n",
            "Epoch    36, loss 4.801\n",
            "Epoch    37, loss 4.801\n",
            "Epoch    38, loss 4.801\n",
            "Epoch    39, loss 4.801\n",
            "Epoch    40, loss 4.801\n",
            "Epoch    41, loss 4.801\n",
            "Epoch    42, loss 4.801\n",
            "Epoch    43, loss 4.801\n",
            "Epoch    44, loss 4.801\n",
            "Epoch    45, loss 4.801\n",
            "Epoch    46, loss 4.801\n",
            "Epoch    47, loss 4.801\n",
            "Epoch    48, loss 4.801\n",
            "Epoch    49, loss 4.801\n",
            "Epoch    50, loss 4.801\n",
            "Epoch    51, loss 4.801\n",
            "Epoch    52, loss 4.801\n",
            "Epoch    53, loss 4.801\n",
            "Epoch    54, loss 4.801\n",
            "Epoch    55, loss 4.801\n",
            "Epoch    56, loss 4.801\n",
            "Epoch    57, loss 4.801\n",
            "Epoch    58, loss 4.801\n",
            "Epoch    59, loss 4.801\n",
            "Epoch    60, loss 4.801\n",
            "Epoch    61, loss 4.801\n",
            "Epoch    62, loss 4.801\n",
            "Epoch    63, loss 4.801\n",
            "Epoch    64, loss 4.801\n",
            "Epoch    65, loss 4.801\n",
            "Epoch    66, loss 4.801\n",
            "Epoch    67, loss 4.801\n",
            "Epoch    68, loss 4.801\n",
            "Epoch    69, loss 4.801\n",
            "Epoch    70, loss 4.801\n",
            "Epoch    71, loss 4.801\n",
            "Epoch    72, loss 4.801\n",
            "Epoch    73, loss 4.801\n",
            "Epoch    74, loss 4.801\n",
            "Epoch    75, loss 4.801\n",
            "Epoch    76, loss 4.801\n",
            "Epoch    77, loss 4.801\n",
            "Epoch    78, loss 4.801\n",
            "Epoch    79, loss 4.801\n",
            "Epoch    80, loss 4.801\n",
            "Epoch    81, loss 4.801\n",
            "Epoch    82, loss 4.801\n",
            "Epoch    83, loss 4.801\n",
            "Epoch    84, loss 4.801\n",
            "Epoch    85, loss 4.801\n",
            "Epoch    86, loss 4.801\n",
            "Epoch    87, loss 4.801\n",
            "Epoch    88, loss 4.801\n",
            "Epoch    89, loss 4.801\n",
            "Epoch    90, loss 4.801\n",
            "Epoch    91, loss 4.801\n",
            "Epoch    92, loss 4.801\n",
            "Epoch    93, loss 4.801\n",
            "Epoch    94, loss 4.801\n",
            "Epoch    95, loss 4.801\n",
            "Epoch    96, loss 4.801\n",
            "Epoch    97, loss 4.801\n",
            "Epoch    98, loss 4.801\n",
            "Epoch    99, loss 4.801\n"
          ]
        }
      ]
    },
    {
      "cell_type": "code",
      "source": [
        "# plot the training loss as a function of the number of epochs\n",
        "import matplotlib.pyplot as plt\n",
        "import numpy as np\n",
        "plt.figure()\n",
        "plt.xlabel(\"Epoch\")\n",
        "plt.ylabel(\"Training Loss\")\n",
        "plt.plot(np.arange(0, 100), np.array(all_losses))"
      ],
      "metadata": {
        "colab": {
          "base_uri": "https://localhost:8080/",
          "height": 468
        },
        "id": "EP_b3O3LHp0Y",
        "outputId": "dc0fb2c7-6c9a-4bef-ca8e-0808155e43ed"
      },
      "execution_count": 8,
      "outputs": [
        {
          "output_type": "execute_result",
          "data": {
            "text/plain": [
              "[<matplotlib.lines.Line2D at 0x7f52f4339a30>]"
            ]
          },
          "metadata": {},
          "execution_count": 8
        },
        {
          "output_type": "display_data",
          "data": {
            "text/plain": [
              "<Figure size 640x480 with 1 Axes>"
            ],
            "image/png": "[encoded data removed]"
          },
          "metadata": {}
        }
      ]
    },
    {
      "cell_type": "code",
      "source": [
        "# change the targets y so they are binary\n",
        "y = torch.bernoulli(torch.rand(100, D_o))\n",
        "\n",
        "# create model with two hidden layers to predict numbers between zero and one\n",
        "model = nn.Sequential(\n",
        "  nn.Linear(D_i, D_k),\n",
        "  nn.ReLU(),\n",
        "  nn.Linear(D_k, D_k),\n",
        "  nn.ReLU(),\n",
        "  nn.Linear(D_k, D_o),\n",
        "  nn.Sigmoid())\n",
        "\n",
        "# choose the loss function appropriately\n",
        "criterion = nn.BCELoss()"
      ],
      "metadata": {
        "id": "IXAkbnl3Ini1"
      },
      "execution_count": 11,
      "outputs": []
    },
    {
      "cell_type": "code",
      "source": [
        "data_loader = DataLoader(TensorDataset(x,y), batch_size=10, shuffle=True)\n",
        "# construct SGD optimizer and initialize learning rate and momentum\n",
        "optimizer = torch.optim.SGD(model.parameters(), lr = 0.1, momentum=0.9)\n",
        "# object that decreases learning rate by half every 10 epochs\n",
        "scheduler = StepLR(optimizer, step_size=10, gamma=0.5)\n",
        "\n",
        "all_losses = []\n",
        "# loop over the dataset 100 times\n",
        "for epoch in range(100):\n",
        "  epoch_loss = 0.0\n",
        "  # loop over batches\n",
        "  for i, data in enumerate(data_loader):\n",
        "    # retrieve inputs and labels for this batch\n",
        "    x_batch, y_batch = data\n",
        "    # zero the parameter gradients\n",
        "    optimizer.zero_grad()\n",
        "    # forward pass\n",
        "    pred = model(x_batch)\n",
        "    loss = criterion(pred, y_batch)\n",
        "    # backward pass\n",
        "    loss.backward()\n",
        "    # SGD update\n",
        "    optimizer.step()\n",
        "    # update statistics\n",
        "    epoch_loss += loss.item()\n",
        "  # print error\n",
        "  print(f'Epoch {epoch:5d}, loss {epoch_loss:.3f}')\n",
        "  # tell scheduler to consider updating learning rate\n",
        "  scheduler.step()\n",
        "  all_losses.append(epoch_loss)"
      ],
      "metadata": {
        "colab": {
          "base_uri": "https://localhost:8080/"
        },
        "id": "7eonmyitJnVF",
        "outputId": "1f72f16b-c087-4405-e2fa-314f94abdfbf"
      },
      "execution_count": 13,
      "outputs": [
        {
          "output_type": "stream",
          "name": "stdout",
          "text": [
            "Epoch     0, loss 4.032\n",
            "Epoch     1, loss 4.134\n",
            "Epoch     2, loss 4.083\n",
            "Epoch     3, loss 3.934\n",
            "Epoch     4, loss 3.615\n",
            "Epoch     5, loss 3.516\n",
            "Epoch     6, loss 3.166\n",
            "Epoch     7, loss 3.166\n",
            "Epoch     8, loss 3.191\n",
            "Epoch     9, loss 3.076\n",
            "Epoch    10, loss 2.534\n",
            "Epoch    11, loss 2.156\n",
            "Epoch    12, loss 2.129\n",
            "Epoch    13, loss 1.915\n",
            "Epoch    14, loss 1.836\n",
            "Epoch    15, loss 1.718\n",
            "Epoch    16, loss 1.623\n",
            "Epoch    17, loss 1.585\n",
            "Epoch    18, loss 1.470\n",
            "Epoch    19, loss 1.355\n",
            "Epoch    20, loss 1.223\n",
            "Epoch    21, loss 1.178\n",
            "Epoch    22, loss 1.134\n",
            "Epoch    23, loss 1.123\n",
            "Epoch    24, loss 1.052\n",
            "Epoch    25, loss 1.033\n",
            "Epoch    26, loss 0.994\n",
            "Epoch    27, loss 0.974\n",
            "Epoch    28, loss 0.934\n",
            "Epoch    29, loss 0.926\n",
            "Epoch    30, loss 0.874\n",
            "Epoch    31, loss 0.861\n",
            "Epoch    32, loss 0.852\n",
            "Epoch    33, loss 0.837\n",
            "Epoch    34, loss 0.830\n",
            "Epoch    35, loss 0.818\n",
            "Epoch    36, loss 0.803\n",
            "Epoch    37, loss 0.793\n",
            "Epoch    38, loss 0.778\n",
            "Epoch    39, loss 0.765\n",
            "Epoch    40, loss 0.751\n",
            "Epoch    41, loss 0.745\n",
            "Epoch    42, loss 0.738\n",
            "Epoch    43, loss 0.734\n",
            "Epoch    44, loss 0.729\n",
            "Epoch    45, loss 0.725\n",
            "Epoch    46, loss 0.719\n",
            "Epoch    47, loss 0.715\n",
            "Epoch    48, loss 0.709\n",
            "Epoch    49, loss 0.706\n",
            "Epoch    50, loss 0.697\n",
            "Epoch    51, loss 0.695\n",
            "Epoch    52, loss 0.693\n",
            "Epoch    53, loss 0.690\n",
            "Epoch    54, loss 0.687\n",
            "Epoch    55, loss 0.685\n",
            "Epoch    56, loss 0.682\n",
            "Epoch    57, loss 0.680\n",
            "Epoch    58, loss 0.678\n",
            "Epoch    59, loss 0.676\n",
            "Epoch    60, loss 0.672\n",
            "Epoch    61, loss 0.672\n",
            "Epoch    62, loss 0.670\n",
            "Epoch    63, loss 0.669\n",
            "Epoch    64, loss 0.667\n",
            "Epoch    65, loss 0.666\n",
            "Epoch    66, loss 0.665\n",
            "Epoch    67, loss 0.664\n",
            "Epoch    68, loss 0.663\n",
            "Epoch    69, loss 0.662\n",
            "Epoch    70, loss 0.660\n",
            "Epoch    71, loss 0.660\n",
            "Epoch    72, loss 0.659\n",
            "Epoch    73, loss 0.659\n",
            "Epoch    74, loss 0.658\n",
            "Epoch    75, loss 0.657\n",
            "Epoch    76, loss 0.657\n",
            "Epoch    77, loss 0.656\n",
            "Epoch    78, loss 0.656\n",
            "Epoch    79, loss 0.655\n",
            "Epoch    80, loss 0.654\n",
            "Epoch    81, loss 0.654\n",
            "Epoch    82, loss 0.654\n",
            "Epoch    83, loss 0.653\n",
            "Epoch    84, loss 0.653\n",
            "Epoch    85, loss 0.653\n",
            "Epoch    86, loss 0.653\n",
            "Epoch    87, loss 0.652\n",
            "Epoch    88, loss 0.652\n",
            "Epoch    89, loss 0.652\n",
            "Epoch    90, loss 0.651\n",
            "Epoch    91, loss 0.651\n",
            "Epoch    92, loss 0.651\n",
            "Epoch    93, loss 0.651\n",
            "Epoch    94, loss 0.651\n",
            "Epoch    95, loss 0.651\n",
            "Epoch    96, loss 0.650\n",
            "Epoch    97, loss 0.650\n",
            "Epoch    98, loss 0.650\n",
            "Epoch    99, loss 0.650\n"
          ]
        }
      ]
    },
    {
      "cell_type": "code",
      "source": [
        "plt.figure()\n",
        "plt.xlabel(\"Epoch\")\n",
        "plt.ylabel(\"Training Loss\")\n",
        "plt.plot(np.arange(0, 100), np.array(all_losses))"
      ],
      "metadata": {
        "colab": {
          "base_uri": "https://localhost:8080/",
          "height": 466
        },
        "id": "HW0D-shRK3TQ",
        "outputId": "90c81139-ec6c-4b08-b609-035453f3caf2"
      },
      "execution_count": 14,
      "outputs": [
        {
          "output_type": "execute_result",
          "data": {
            "text/plain": [
              "[<matplotlib.lines.Line2D at 0x7f52f42ea900>]"
            ]
          },
          "metadata": {},
          "execution_count": 14
        },
        {
          "output_type": "display_data",
          "data": {
            "text/plain": [
              "<Figure size 640x480 with 1 Axes>"
            ],
            "image/png": "[encoded data removed]"
          },
          "metadata": {}
        }
      ]
    }
  ]
}