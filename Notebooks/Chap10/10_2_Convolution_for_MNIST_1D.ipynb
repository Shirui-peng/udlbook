{
  "nbformat": 4,
  "nbformat_minor": 0,
  "metadata": {
    "colab": {
      "provenance": [],
      "include_colab_link": true
    },
    "kernelspec": {
      "name": "python3",
      "display_name": "Python 3"
    },
    "language_info": {
      "name": "python"
    }
  },
  "cells": [
    {
      "cell_type": "markdown",
      "metadata": {
        "id": "view-in-github",
        "colab_type": "text"
      },
      "source": [
        "<a href=\"https://colab.research.google.com/github/Shirui-peng/udlbook/blob/main/Notebooks/Chap10/10_2_Convolution_for_MNIST_1D.ipynb\" target=\"_parent\"><img src=\"https://colab.research.google.com/assets/colab-badge.svg\" alt=\"Open In Colab\"/></a>"
      ]
    },
    {
      "cell_type": "markdown",
      "source": [
        "# **Notebook 10.2: Convolution for MNIST-1D**\n",
        "\n",
        "This notebook investigates a 1D convolutional network for MNIST-1D as in figure 10.7 and 10.8a.\n",
        "\n",
        "Work through the cells below, running each cell in turn. In various places you will see the words \"TODO\". Follow the instructions at these places and make predictions about what is going to happen or write code to complete the functions.\n",
        "\n",
        "Contact me at udlbookmail@gmail.com if you find any mistakes or have any suggestions.\n",
        "\n"
      ],
      "metadata": {
        "id": "t9vk9Elugvmi"
      }
    },
    {
      "cell_type": "code",
      "source": [
        "# Run this if you're in a Colab to install MNIST 1D repository\n",
        "!pip install git+https://github.com/greydanus/mnist1d"
      ],
      "metadata": {
        "id": "D5yLObtZCi9J",
        "outputId": "aaa2a326-ca86-40c3-c343-e29da2f158bc",
        "colab": {
          "base_uri": "https://localhost:8080/"
        }
      },
      "execution_count": 1,
      "outputs": [
        {
          "output_type": "stream",
          "name": "stdout",
          "text": [
            "Collecting git+https://github.com/greydanus/mnist1d\n",
            "  Cloning https://github.com/greydanus/mnist1d to /tmp/pip-req-build-2avvj06h\n",
            "  Running command git clone --filter=blob:none --quiet https://github.com/greydanus/mnist1d /tmp/pip-req-build-2avvj06h\n",
            "  Resolved https://github.com/greydanus/mnist1d to commit 7878d96082abd200c546a07a4101fa90b30fdf7e\n",
            "  Installing build dependencies ... \u001b[?25l\u001b[?25hdone\n",
            "  Getting requirements to build wheel ... \u001b[?25l\u001b[?25hdone\n",
            "  Preparing metadata (pyproject.toml) ... \u001b[?25l\u001b[?25hdone\n",
            "Requirement already satisfied: requests in /usr/local/lib/python3.12/dist-packages (from mnist1d==0.0.2.post16) (2.32.4)\n",
            "Requirement already satisfied: numpy in /usr/local/lib/python3.12/dist-packages (from mnist1d==0.0.2.post16) (2.0.2)\n",
            "Requirement already satisfied: matplotlib in /usr/local/lib/python3.12/dist-packages (from mnist1d==0.0.2.post16) (3.10.0)\n",
            "Requirement already satisfied: scipy in /usr/local/lib/python3.12/dist-packages (from mnist1d==0.0.2.post16) (1.16.1)\n",
            "Requirement already satisfied: contourpy>=1.0.1 in /usr/local/lib/python3.12/dist-packages (from matplotlib->mnist1d==0.0.2.post16) (1.3.3)\n",
            "Requirement already satisfied: cycler>=0.10 in /usr/local/lib/python3.12/dist-packages (from matplotlib->mnist1d==0.0.2.post16) (0.12.1)\n",
            "Requirement already satisfied: fonttools>=4.22.0 in /usr/local/lib/python3.12/dist-packages (from matplotlib->mnist1d==0.0.2.post16) (4.59.2)\n",
            "Requirement already satisfied: kiwisolver>=1.3.1 in /usr/local/lib/python3.12/dist-packages (from matplotlib->mnist1d==0.0.2.post16) (1.4.9)\n",
            "Requirement already satisfied: packaging>=20.0 in /usr/local/lib/python3.12/dist-packages (from matplotlib->mnist1d==0.0.2.post16) (25.0)\n",
            "Requirement already satisfied: pillow>=8 in /usr/local/lib/python3.12/dist-packages (from matplotlib->mnist1d==0.0.2.post16) (11.3.0)\n",
            "Requirement already satisfied: pyparsing>=2.3.1 in /usr/local/lib/python3.12/dist-packages (from matplotlib->mnist1d==0.0.2.post16) (3.2.3)\n",
            "Requirement already satisfied: python-dateutil>=2.7 in /usr/local/lib/python3.12/dist-packages (from matplotlib->mnist1d==0.0.2.post16) (2.9.0.post0)\n",
            "Requirement already satisfied: charset_normalizer<4,>=2 in /usr/local/lib/python3.12/dist-packages (from requests->mnist1d==0.0.2.post16) (3.4.3)\n",
            "Requirement already satisfied: idna<4,>=2.5 in /usr/local/lib/python3.12/dist-packages (from requests->mnist1d==0.0.2.post16) (3.10)\n",
            "Requirement already satisfied: urllib3<3,>=1.21.1 in /usr/local/lib/python3.12/dist-packages (from requests->mnist1d==0.0.2.post16) (2.5.0)\n",
            "Requirement already satisfied: certifi>=2017.4.17 in /usr/local/lib/python3.12/dist-packages (from requests->mnist1d==0.0.2.post16) (2025.8.3)\n",
            "Requirement already satisfied: six>=1.5 in /usr/local/lib/python3.12/dist-packages (from python-dateutil>=2.7->matplotlib->mnist1d==0.0.2.post16) (1.17.0)\n",
            "Building wheels for collected packages: mnist1d\n",
            "  Building wheel for mnist1d (pyproject.toml) ... \u001b[?25l\u001b[?25hdone\n",
            "  Created wheel for mnist1d: filename=mnist1d-0.0.2.post16-py3-none-any.whl size=14665 sha256=e5062766c341e022f1f9700f4087fac13aa211018ba909dbe7a3d634b2ffbd76\n",
            "  Stored in directory: /tmp/pip-ephem-wheel-cache-lowaj5gh/wheels/18/40/b6/29381fee9b4c80fdbc304d52bb065a7286bbcca5ca2b8737c0\n",
            "Successfully built mnist1d\n",
            "Installing collected packages: mnist1d\n",
            "Successfully installed mnist1d-0.0.2.post16\n"
          ]
        }
      ]
    },
    {
      "cell_type": "code",
      "source": [
        "import numpy as np\n",
        "import os\n",
        "import torch, torch.nn as nn\n",
        "from torch.utils.data import TensorDataset, DataLoader\n",
        "from torch.optim.lr_scheduler import StepLR\n",
        "import matplotlib.pyplot as plt\n",
        "import mnist1d\n",
        "import random"
      ],
      "metadata": {
        "id": "YrXWAH7sUWvU"
      },
      "execution_count": 2,
      "outputs": []
    },
    {
      "cell_type": "code",
      "source": [
        "args = mnist1d.data.get_dataset_args()\n",
        "data = mnist1d.data.get_dataset(args, path='./mnist1d_data.pkl', download=False, regenerate=False)\n",
        "\n",
        "# The training and test input and outputs are in\n",
        "# data['x'], data['y'], data['x_test'], and data['y_test']\n",
        "print(\"Examples in training set: {}\".format(len(data['y'])))\n",
        "print(\"Examples in test set: {}\".format(len(data['y_test'])))\n",
        "print(\"Length of each example: {}\".format(data['x'].shape[-1]))"
      ],
      "metadata": {
        "id": "twI72ZCrCt5z",
        "outputId": "940e7123-d0e1-4f1d-e280-86c1b9aebdec",
        "colab": {
          "base_uri": "https://localhost:8080/"
        }
      },
      "execution_count": 3,
      "outputs": [
        {
          "output_type": "stream",
          "name": "stdout",
          "text": [
            "Did or could not load data from ./mnist1d_data.pkl. Rebuilding dataset...\n",
            "Examples in training set: 4000\n",
            "Examples in test set: 1000\n",
            "Length of each example: 40\n"
          ]
        }
      ]
    },
    {
      "cell_type": "code",
      "source": [
        "# Load in the data\n",
        "train_data_x = data['x'].transpose()\n",
        "train_data_y = data['y']\n",
        "val_data_x = data['x_test'].transpose()\n",
        "val_data_y = data['y_test']\n",
        "# Print out sizes\n",
        "print(\"Train data: %d examples (columns), each of which has %d dimensions (rows)\"%((train_data_x.shape[1],train_data_x.shape[0])))\n",
        "print(\"Validation data: %d examples (columns), each of which has %d dimensions (rows)\"%((val_data_x.shape[1],val_data_x.shape[0])))"
      ],
      "metadata": {
        "id": "8bKADvLHbiV5",
        "outputId": "60e827d2-1f6b-49fc-987a-6f1b2a19b87b",
        "colab": {
          "base_uri": "https://localhost:8080/"
        }
      },
      "execution_count": 4,
      "outputs": [
        {
          "output_type": "stream",
          "name": "stdout",
          "text": [
            "Train data: 4000 examples (columns), each of which has 40 dimensions (rows)\n",
            "Validation data: 1000 examples (columns), each of which has 40 dimensions (rows)\n"
          ]
        }
      ]
    },
    {
      "cell_type": "markdown",
      "source": [
        "Define the network"
      ],
      "metadata": {
        "id": "_sFvRDGrl4qe"
      }
    },
    {
      "cell_type": "code",
      "source": [
        "# There are 40 input dimensions and 10 output dimensions for this data\n",
        "# The inputs correspond to the 40 offsets in the MNIST1D template.\n",
        "D_i = 40\n",
        "# The outputs correspond to the 10 digits\n",
        "D_o = 10\n",
        "\n",
        "\n",
        "# TODO Create a model with the following layers\n",
        "# 1. Convolutional layer, (input=length 40 and 1 channel, kernel size 3, stride 2, padding=\"valid\", 15 output channels )\n",
        "# 2. ReLU\n",
        "# 3. Convolutional layer, (input=length 19 and 15 channels, kernel size 3, stride 2, padding=\"valid\", 15 output channels )\n",
        "# 4. ReLU\n",
        "# 5. Convolutional layer, (input=length 9 and 15 channels, kernel size 3, stride 2, padding=\"valid\", 15 output channels)\n",
        "# 6. ReLU\n",
        "# 7. Flatten (converts 4x15) to length 60\n",
        "# 8. Linear layer (input size = 60, output size = 10)\n",
        "# References:\n",
        "# https://pytorch.org/docs/1.13/generated/torch.nn.Conv1d.html?highlight=conv1d#torch.nn.Conv1d\n",
        "# https://pytorch.org/docs/stable/generated/torch.nn.Flatten.html\n",
        "# https://pytorch.org/docs/1.13/generated/torch.nn.Linear.html?highlight=linear#torch.nn.Linear\n",
        "\n",
        "# NOTE THAT THE CONVOLUTIONAL LAYERS NEED TO TAKE THE NUMBER OF INPUT CHANNELS AS A PARAMETER\n",
        "# AND NOT THE INPUT SIZE.\n",
        "\n",
        "# Replace the following function:\n",
        "model = nn.Sequential(\n",
        "nn.Conv1d(1, 15, 3, 2, 'valid'),\n",
        "nn.ReLU(),\n",
        "nn.Conv1d(15, 15, 3, 2, 'valid'),\n",
        "nn.ReLU(),\n",
        "nn.Conv1d(15, 15, 3, 2, 'valid'),\n",
        "nn.ReLU(),\n",
        "nn.Flatten(),\n",
        "nn.Linear(60, 10))\n",
        "\n",
        "\n",
        "\n"
      ],
      "metadata": {
        "id": "FslroPJJffrh"
      },
      "execution_count": 8,
      "outputs": []
    },
    {
      "cell_type": "code",
      "source": [
        "# He initialization of weights\n",
        "def weights_init(layer_in):\n",
        "  if isinstance(layer_in, nn.Linear):\n",
        "    nn.init.kaiming_uniform_(layer_in.weight)\n",
        "    layer_in.bias.data.fill_(0.0)"
      ],
      "metadata": {
        "id": "YgLaex1pfhqz"
      },
      "execution_count": 9,
      "outputs": []
    },
    {
      "cell_type": "code",
      "source": [
        "# choose cross entropy loss function (equation 5.24 in the loss notes)\n",
        "loss_function = nn.CrossEntropyLoss()\n",
        "# construct SGD optimizer and initialize learning rate and momentum\n",
        "optimizer = torch.optim.SGD(model.parameters(), lr = 0.05, momentum=0.9)\n",
        "# object that decreases learning rate by half every 20 epochs\n",
        "scheduler = StepLR(optimizer, step_size=20, gamma=0.5)\n",
        "# create 100 dummy data points and store in data loader class\n",
        "x_train = torch.tensor(train_data_x.transpose().astype('float32'))\n",
        "y_train = torch.tensor(train_data_y.astype('long')).long()\n",
        "x_val= torch.tensor(val_data_x.transpose().astype('float32'))\n",
        "y_val = torch.tensor(val_data_y.astype('long')).long()\n",
        "\n",
        "# load the data into a class that creates the batches\n",
        "data_loader = DataLoader(TensorDataset(x_train,y_train), batch_size=100, shuffle=True, worker_init_fn=np.random.seed(1))\n",
        "\n",
        "# Initialize model weights\n",
        "model.apply(weights_init)\n",
        "\n",
        "# loop over the dataset n_epoch times\n",
        "n_epoch = 100\n",
        "# store the loss and the % correct at each epoch\n",
        "losses_train = np.zeros((n_epoch))\n",
        "errors_train = np.zeros((n_epoch))\n",
        "losses_val = np.zeros((n_epoch))\n",
        "errors_val = np.zeros((n_epoch))\n",
        "\n",
        "for epoch in range(n_epoch):\n",
        "  # loop over batches\n",
        "  for i, data in enumerate(data_loader):\n",
        "    # retrieve inputs and labels for this batch\n",
        "    x_batch, y_batch = data\n",
        "    # zero the parameter gradients\n",
        "    optimizer.zero_grad()\n",
        "    # forward pass -- calculate model output\n",
        "    pred = model(x_batch[:,None,:])\n",
        "    # compute the loss\n",
        "    loss = loss_function(pred, y_batch)\n",
        "    # backward pass\n",
        "    loss.backward()\n",
        "    # SGD update\n",
        "    optimizer.step()\n",
        "\n",
        "  # Run whole dataset to get statistics -- normally wouldn't do this\n",
        "  pred_train = model(x_train[:,None,:])\n",
        "  pred_val = model(x_val[:,None,:])\n",
        "  _, predicted_train_class = torch.max(pred_train.data, 1)\n",
        "  _, predicted_val_class = torch.max(pred_val.data, 1)\n",
        "  errors_train[epoch] = 100 - 100 * (predicted_train_class == y_train).float().sum() / len(y_train)\n",
        "  errors_val[epoch]= 100 - 100 * (predicted_val_class == y_val).float().sum() / len(y_val)\n",
        "  losses_train[epoch] = loss_function(pred_train, y_train).item()\n",
        "  losses_val[epoch]= loss_function(pred_val, y_val).item()\n",
        "  print(f'Epoch {epoch:5d}, train loss {losses_train[epoch]:.6f}, train error {errors_train[epoch]:3.2f},  val loss {losses_val[epoch]:.6f}, percent error {errors_val[epoch]:3.2f}')\n",
        "\n",
        "  # tell scheduler to consider updating learning rate\n",
        "  scheduler.step()\n",
        "\n",
        "# Plot the results\n",
        "fig, ax = plt.subplots()\n",
        "ax.plot(errors_train,'r-',label='train')\n",
        "ax.plot(errors_val,'b-',label='validation')\n",
        "ax.set_ylim(0,100); ax.set_xlim(0,n_epoch)\n",
        "ax.set_xlabel('Epoch'); ax.set_ylabel('Error')\n",
        "ax.set_title('Part I: Validation Result %3.2f'%(errors_val[-1]))\n",
        "ax.legend()\n",
        "plt.show()"
      ],
      "metadata": {
        "id": "NYw8I_3mmX5c",
        "outputId": "c6ef55cd-916c-441a-fe18-2e4eb38a2687",
        "colab": {
          "base_uri": "https://localhost:8080/",
          "height": 1000
        }
      },
      "execution_count": 10,
      "outputs": [
        {
          "output_type": "stream",
          "name": "stdout",
          "text": [
            "Epoch     0, train loss 1.940585, train error 71.47,  val loss 1.932541, percent error 71.40\n",
            "Epoch     1, train loss 1.474973, train error 59.88,  val loss 1.469613, percent error 59.80\n",
            "Epoch     2, train loss 1.380232, train error 55.92,  val loss 1.412175, percent error 58.40\n",
            "Epoch     3, train loss 1.335650, train error 53.50,  val loss 1.389064, percent error 58.60\n",
            "Epoch     4, train loss 1.342634, train error 54.33,  val loss 1.359056, percent error 56.50\n",
            "Epoch     5, train loss 1.116885, train error 46.97,  val loss 1.160993, percent error 50.20\n",
            "Epoch     6, train loss 1.088507, train error 44.42,  val loss 1.124476, percent error 47.60\n",
            "Epoch     7, train loss 1.010710, train error 40.33,  val loss 1.040143, percent error 43.50\n",
            "Epoch     8, train loss 0.892610, train error 36.80,  val loss 0.946441, percent error 39.30\n",
            "Epoch     9, train loss 0.838083, train error 33.72,  val loss 0.871278, percent error 35.90\n",
            "Epoch    10, train loss 0.691416, train error 26.25,  val loss 0.763294, percent error 31.20\n",
            "Epoch    11, train loss 0.679529, train error 25.72,  val loss 0.759785, percent error 29.10\n",
            "Epoch    12, train loss 0.541616, train error 18.75,  val loss 0.597472, percent error 22.10\n",
            "Epoch    13, train loss 0.609679, train error 20.95,  val loss 0.656249, percent error 23.40\n",
            "Epoch    14, train loss 0.381905, train error 13.62,  val loss 0.472306, percent error 17.60\n",
            "Epoch    15, train loss 0.359244, train error 12.57,  val loss 0.454246, percent error 16.40\n",
            "Epoch    16, train loss 0.319567, train error 11.85,  val loss 0.419008, percent error 14.50\n",
            "Epoch    17, train loss 0.284748, train error 10.53,  val loss 0.427455, percent error 14.90\n",
            "Epoch    18, train loss 0.256397, train error 9.25,  val loss 0.384865, percent error 14.20\n",
            "Epoch    19, train loss 0.326875, train error 11.38,  val loss 0.470112, percent error 15.10\n",
            "Epoch    20, train loss 0.186871, train error 6.43,  val loss 0.340712, percent error 11.30\n",
            "Epoch    21, train loss 0.146550, train error 4.88,  val loss 0.294538, percent error 10.30\n",
            "Epoch    22, train loss 0.142125, train error 4.62,  val loss 0.310441, percent error 10.80\n",
            "Epoch    23, train loss 0.142857, train error 4.93,  val loss 0.328058, percent error 11.20\n",
            "Epoch    24, train loss 0.126173, train error 4.12,  val loss 0.309038, percent error 11.30\n",
            "Epoch    25, train loss 0.118376, train error 3.47,  val loss 0.326593, percent error 11.40\n",
            "Epoch    26, train loss 0.114581, train error 3.85,  val loss 0.316702, percent error 11.40\n",
            "Epoch    27, train loss 0.114186, train error 3.88,  val loss 0.322638, percent error 11.00\n",
            "Epoch    28, train loss 0.131105, train error 4.68,  val loss 0.348057, percent error 11.40\n",
            "Epoch    29, train loss 0.127892, train error 4.35,  val loss 0.368672, percent error 12.10\n",
            "Epoch    30, train loss 0.117344, train error 3.95,  val loss 0.345171, percent error 10.80\n",
            "Epoch    31, train loss 0.108699, train error 3.43,  val loss 0.306565, percent error 10.20\n",
            "Epoch    32, train loss 0.091326, train error 2.90,  val loss 0.332007, percent error 10.60\n",
            "Epoch    33, train loss 0.088039, train error 2.75,  val loss 0.318963, percent error 10.70\n",
            "Epoch    34, train loss 0.087793, train error 2.80,  val loss 0.308291, percent error 9.70\n",
            "Epoch    35, train loss 0.089764, train error 2.82,  val loss 0.333710, percent error 10.80\n",
            "Epoch    36, train loss 0.082530, train error 2.55,  val loss 0.305773, percent error 10.10\n",
            "Epoch    37, train loss 0.097254, train error 3.62,  val loss 0.373612, percent error 11.30\n",
            "Epoch    38, train loss 0.077164, train error 2.12,  val loss 0.325254, percent error 9.60\n",
            "Epoch    39, train loss 0.079169, train error 2.55,  val loss 0.325583, percent error 9.90\n",
            "Epoch    40, train loss 0.061930, train error 1.55,  val loss 0.313354, percent error 10.00\n",
            "Epoch    41, train loss 0.059310, train error 1.50,  val loss 0.323289, percent error 10.20\n",
            "Epoch    42, train loss 0.062085, train error 1.78,  val loss 0.336759, percent error 10.90\n",
            "Epoch    43, train loss 0.056282, train error 1.53,  val loss 0.332440, percent error 10.30\n",
            "Epoch    44, train loss 0.056062, train error 1.57,  val loss 0.332975, percent error 10.90\n",
            "Epoch    45, train loss 0.054757, train error 1.40,  val loss 0.311475, percent error 9.70\n",
            "Epoch    46, train loss 0.057964, train error 1.55,  val loss 0.354652, percent error 10.60\n",
            "Epoch    47, train loss 0.053189, train error 1.28,  val loss 0.336324, percent error 9.90\n",
            "Epoch    48, train loss 0.051429, train error 1.22,  val loss 0.344252, percent error 10.20\n",
            "Epoch    49, train loss 0.051802, train error 1.15,  val loss 0.338122, percent error 10.90\n",
            "Epoch    50, train loss 0.048134, train error 1.00,  val loss 0.332846, percent error 10.30\n",
            "Epoch    51, train loss 0.049425, train error 1.25,  val loss 0.338490, percent error 10.20\n",
            "Epoch    52, train loss 0.049971, train error 1.30,  val loss 0.319071, percent error 10.00\n",
            "Epoch    53, train loss 0.049868, train error 1.32,  val loss 0.341094, percent error 10.40\n",
            "Epoch    54, train loss 0.047035, train error 0.95,  val loss 0.335995, percent error 10.20\n",
            "Epoch    55, train loss 0.044569, train error 0.95,  val loss 0.327958, percent error 9.80\n",
            "Epoch    56, train loss 0.045822, train error 1.07,  val loss 0.330001, percent error 10.00\n",
            "Epoch    57, train loss 0.042121, train error 0.90,  val loss 0.348272, percent error 10.10\n",
            "Epoch    58, train loss 0.045245, train error 1.05,  val loss 0.356108, percent error 10.30\n",
            "Epoch    59, train loss 0.042057, train error 0.90,  val loss 0.345414, percent error 9.80\n",
            "Epoch    60, train loss 0.040747, train error 0.93,  val loss 0.349506, percent error 10.30\n",
            "Epoch    61, train loss 0.038807, train error 0.78,  val loss 0.343525, percent error 10.00\n",
            "Epoch    62, train loss 0.038696, train error 0.82,  val loss 0.338576, percent error 9.80\n",
            "Epoch    63, train loss 0.039112, train error 0.85,  val loss 0.343487, percent error 10.10\n",
            "Epoch    64, train loss 0.039115, train error 0.80,  val loss 0.354245, percent error 10.40\n",
            "Epoch    65, train loss 0.037510, train error 0.68,  val loss 0.345037, percent error 10.30\n",
            "Epoch    66, train loss 0.037894, train error 0.72,  val loss 0.355844, percent error 10.50\n",
            "Epoch    67, train loss 0.037720, train error 0.75,  val loss 0.353432, percent error 10.30\n",
            "Epoch    68, train loss 0.036422, train error 0.65,  val loss 0.355371, percent error 9.60\n",
            "Epoch    69, train loss 0.036662, train error 0.75,  val loss 0.357462, percent error 10.20\n",
            "Epoch    70, train loss 0.036575, train error 0.72,  val loss 0.354806, percent error 10.30\n",
            "Epoch    71, train loss 0.035610, train error 0.65,  val loss 0.349175, percent error 9.90\n",
            "Epoch    72, train loss 0.036731, train error 0.72,  val loss 0.357214, percent error 10.60\n",
            "Epoch    73, train loss 0.035043, train error 0.75,  val loss 0.357533, percent error 10.20\n",
            "Epoch    74, train loss 0.034723, train error 0.65,  val loss 0.352352, percent error 9.90\n",
            "Epoch    75, train loss 0.034612, train error 0.57,  val loss 0.349744, percent error 10.00\n",
            "Epoch    76, train loss 0.034597, train error 0.65,  val loss 0.361584, percent error 10.30\n",
            "Epoch    77, train loss 0.033580, train error 0.55,  val loss 0.354759, percent error 10.00\n",
            "Epoch    78, train loss 0.034758, train error 0.70,  val loss 0.355301, percent error 10.10\n",
            "Epoch    79, train loss 0.033402, train error 0.57,  val loss 0.357338, percent error 9.90\n",
            "Epoch    80, train loss 0.032827, train error 0.62,  val loss 0.358768, percent error 9.80\n",
            "Epoch    81, train loss 0.032229, train error 0.55,  val loss 0.361825, percent error 10.10\n",
            "Epoch    82, train loss 0.032081, train error 0.55,  val loss 0.362233, percent error 10.10\n",
            "Epoch    83, train loss 0.032487, train error 0.60,  val loss 0.362287, percent error 10.00\n",
            "Epoch    84, train loss 0.031947, train error 0.55,  val loss 0.359064, percent error 10.10\n",
            "Epoch    85, train loss 0.032120, train error 0.55,  val loss 0.366668, percent error 10.50\n",
            "Epoch    86, train loss 0.031665, train error 0.50,  val loss 0.364584, percent error 10.60\n",
            "Epoch    87, train loss 0.031587, train error 0.53,  val loss 0.362391, percent error 9.90\n",
            "Epoch    88, train loss 0.031247, train error 0.50,  val loss 0.361787, percent error 9.90\n",
            "Epoch    89, train loss 0.031640, train error 0.47,  val loss 0.361083, percent error 10.00\n",
            "Epoch    90, train loss 0.031052, train error 0.55,  val loss 0.368834, percent error 10.30\n",
            "Epoch    91, train loss 0.031021, train error 0.55,  val loss 0.371187, percent error 10.40\n",
            "Epoch    92, train loss 0.030846, train error 0.47,  val loss 0.362092, percent error 9.90\n",
            "Epoch    93, train loss 0.030532, train error 0.45,  val loss 0.367079, percent error 10.20\n",
            "Epoch    94, train loss 0.030501, train error 0.53,  val loss 0.364278, percent error 10.20\n",
            "Epoch    95, train loss 0.030314, train error 0.50,  val loss 0.370625, percent error 10.30\n",
            "Epoch    96, train loss 0.030350, train error 0.45,  val loss 0.369196, percent error 10.30\n",
            "Epoch    97, train loss 0.030055, train error 0.47,  val loss 0.370605, percent error 10.40\n",
            "Epoch    98, train loss 0.029998, train error 0.50,  val loss 0.371460, percent error 10.30\n",
            "Epoch    99, train loss 0.029794, train error 0.43,  val loss 0.370270, percent error 10.10\n"
          ]
        },
        {
          "output_type": "display_data",
          "data": {
            "text/plain": [
              "<Figure size 640x480 with 1 Axes>"
            ],
            "image/png": "[encoded data removed]"
          },
          "metadata": {}
        }
      ]
    },
    {
      "cell_type": "code",
      "source": [],
      "metadata": {
        "id": "4CCqnqfWv05g"
      },
      "execution_count": null,
      "outputs": []
    }
  ]
}